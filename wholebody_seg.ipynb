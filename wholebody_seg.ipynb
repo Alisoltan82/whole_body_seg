{
  "metadata": {
    "kernelspec": {
      "name": "python3",
      "display_name": "Python 3",
      "language": "python"
    },
    "language_info": {
      "name": "python",
      "version": "3.10.12",
      "mimetype": "text/x-python",
      "codemirror_mode": {
        "name": "ipython",
        "version": 3
      },
      "pygments_lexer": "ipython3",
      "nbconvert_exporter": "python",
      "file_extension": ".py"
    },
    "colab": {
      "provenance": [],
      "gpuType": "T4",
      "include_colab_link": true
    },
    "accelerator": "GPU",
    "kaggle": {
      "accelerator": "none",
      "dataSources": [
        {
          "sourceId": 7401963,
          "sourceType": "datasetVersion",
          "datasetId": 4304194
        }
      ],
      "dockerImageVersionId": 30635,
      "isInternetEnabled": true,
      "language": "python",
      "sourceType": "notebook",
      "isGpuEnabled": false
    }
  },
  "nbformat_minor": 0,
  "nbformat": 4,
  "cells": [
    {
      "cell_type": "markdown",
      "metadata": {
        "id": "view-in-github",
        "colab_type": "text"
      },
      "source": [
        "<a href=\"https://colab.research.google.com/github/Alisoltan82/whole_body_seg/blob/main/wholebody_seg.ipynb\" target=\"_parent\"><img src=\"https://colab.research.google.com/assets/colab-badge.svg\" alt=\"Open In Colab\"/></a>"
      ]
    },
    {
      "cell_type": "code",
      "source": [
        "!pip install pydicom\n",
        "!pip install monai\n",
        "!pip install tcia_utils"
      ],
      "metadata": {
        "id": "G3x1THjhJtRl",
        "outputId": "1409a248-de71-4f6d-e961-05def53db214",
        "colab": {
          "base_uri": "https://localhost:8080/",
          "height": 1000
        },
        "execution": {
          "iopub.status.busy": "2024-01-14T18:27:37.676465Z",
          "iopub.execute_input": "2024-01-14T18:27:37.677163Z",
          "iopub.status.idle": "2024-01-14T18:28:24.157274Z",
          "shell.execute_reply.started": "2024-01-14T18:27:37.677111Z",
          "shell.execute_reply": "2024-01-14T18:28:24.155822Z"
        },
        "trusted": true
      },
      "execution_count": null,
      "outputs": [
        {
          "name": "stdout",
          "text": "Requirement already satisfied: pydicom in /opt/conda/lib/python3.10/site-packages (2.4.4)\nRequirement already satisfied: monai in /opt/conda/lib/python3.10/site-packages (1.3.0)\nRequirement already satisfied: numpy>=1.20 in /opt/conda/lib/python3.10/site-packages (from monai) (1.24.3)\nRequirement already satisfied: torch>=1.9 in /opt/conda/lib/python3.10/site-packages (from monai) (2.0.0+cpu)\nRequirement already satisfied: filelock in /opt/conda/lib/python3.10/site-packages (from torch>=1.9->monai) (3.12.2)\nRequirement already satisfied: typing-extensions in /opt/conda/lib/python3.10/site-packages (from torch>=1.9->monai) (4.5.0)\nRequirement already satisfied: sympy in /opt/conda/lib/python3.10/site-packages (from torch>=1.9->monai) (1.12)\nRequirement already satisfied: networkx in /opt/conda/lib/python3.10/site-packages (from torch>=1.9->monai) (3.1)\nRequirement already satisfied: jinja2 in /opt/conda/lib/python3.10/site-packages (from torch>=1.9->monai) (3.1.2)\nRequirement already satisfied: MarkupSafe>=2.0 in /opt/conda/lib/python3.10/site-packages (from jinja2->torch>=1.9->monai) (2.1.3)\nRequirement already satisfied: mpmath>=0.19 in /opt/conda/lib/python3.10/site-packages (from sympy->torch>=1.9->monai) (1.3.0)\nRequirement already satisfied: tcia_utils in /opt/conda/lib/python3.10/site-packages (2.0.1)\nRequirement already satisfied: ipywidgets in /opt/conda/lib/python3.10/site-packages (from tcia_utils) (7.7.1)\nRequirement already satisfied: matplotlib in /opt/conda/lib/python3.10/site-packages (from tcia_utils) (3.7.4)\nRequirement already satisfied: nibabel in /opt/conda/lib/python3.10/site-packages (from tcia_utils) (5.2.0)\nRequirement already satisfied: nilearn in /opt/conda/lib/python3.10/site-packages (from tcia_utils) (0.10.2)\nRequirement already satisfied: numpy in /opt/conda/lib/python3.10/site-packages (from tcia_utils) (1.24.3)\nRequirement already satisfied: pandas in /opt/conda/lib/python3.10/site-packages (from tcia_utils) (2.0.3)\nRequirement already satisfied: plotly in /opt/conda/lib/python3.10/site-packages (from tcia_utils) (5.16.1)\nRequirement already satisfied: pydicom in /opt/conda/lib/python3.10/site-packages (from tcia_utils) (2.4.4)\nRequirement already satisfied: pydicom-seg in /opt/conda/lib/python3.10/site-packages (from tcia_utils) (0.4.1)\nRequirement already satisfied: requests in /opt/conda/lib/python3.10/site-packages (from tcia_utils) (2.31.0)\nRequirement already satisfied: rt-utils in /opt/conda/lib/python3.10/site-packages (from tcia_utils) (1.2.7)\nRequirement already satisfied: ipykernel>=4.5.1 in /opt/conda/lib/python3.10/site-packages (from ipywidgets->tcia_utils) (6.25.1)\nRequirement already satisfied: ipython-genutils~=0.2.0 in /opt/conda/lib/python3.10/site-packages (from ipywidgets->tcia_utils) (0.2.0)\nRequirement already satisfied: traitlets>=4.3.1 in /opt/conda/lib/python3.10/site-packages (from ipywidgets->tcia_utils) (5.9.0)\nRequirement already satisfied: widgetsnbextension~=3.6.0 in /opt/conda/lib/python3.10/site-packages (from ipywidgets->tcia_utils) (3.6.6)\nRequirement already satisfied: ipython>=4.0.0 in /opt/conda/lib/python3.10/site-packages (from ipywidgets->tcia_utils) (8.14.0)\nRequirement already satisfied: jupyterlab-widgets>=1.0.0 in /opt/conda/lib/python3.10/site-packages (from ipywidgets->tcia_utils) (3.0.8)\nRequirement already satisfied: contourpy>=1.0.1 in /opt/conda/lib/python3.10/site-packages (from matplotlib->tcia_utils) (1.1.0)\nRequirement already satisfied: cycler>=0.10 in /opt/conda/lib/python3.10/site-packages (from matplotlib->tcia_utils) (0.11.0)\nRequirement already satisfied: fonttools>=4.22.0 in /opt/conda/lib/python3.10/site-packages (from matplotlib->tcia_utils) (4.42.1)\nRequirement already satisfied: kiwisolver>=1.0.1 in /opt/conda/lib/python3.10/site-packages (from matplotlib->tcia_utils) (1.4.4)\nRequirement already satisfied: packaging>=20.0 in /opt/conda/lib/python3.10/site-packages (from matplotlib->tcia_utils) (21.3)\nRequirement already satisfied: pillow>=6.2.0 in /opt/conda/lib/python3.10/site-packages (from matplotlib->tcia_utils) (9.5.0)\nRequirement already satisfied: pyparsing>=2.3.1 in /opt/conda/lib/python3.10/site-packages (from matplotlib->tcia_utils) (3.0.9)\nRequirement already satisfied: python-dateutil>=2.7 in /opt/conda/lib/python3.10/site-packages (from matplotlib->tcia_utils) (2.8.2)\nRequirement already satisfied: joblib>=1.0.0 in /opt/conda/lib/python3.10/site-packages (from nilearn->tcia_utils) (1.3.2)\nRequirement already satisfied: lxml in /opt/conda/lib/python3.10/site-packages (from nilearn->tcia_utils) (5.1.0)\nRequirement already satisfied: scikit-learn>=1.0.0 in /opt/conda/lib/python3.10/site-packages (from nilearn->tcia_utils) (1.2.2)\nRequirement already satisfied: scipy>=1.6.0 in /opt/conda/lib/python3.10/site-packages (from nilearn->tcia_utils) (1.11.4)\nRequirement already satisfied: pytz>=2020.1 in /opt/conda/lib/python3.10/site-packages (from pandas->tcia_utils) (2023.3)\nRequirement already satisfied: tzdata>=2022.1 in /opt/conda/lib/python3.10/site-packages (from pandas->tcia_utils) (2023.3)\nRequirement already satisfied: charset-normalizer<4,>=2 in /opt/conda/lib/python3.10/site-packages (from requests->tcia_utils) (3.2.0)\nRequirement already satisfied: idna<4,>=2.5 in /opt/conda/lib/python3.10/site-packages (from requests->tcia_utils) (3.4)\nRequirement already satisfied: urllib3<3,>=1.21.1 in /opt/conda/lib/python3.10/site-packages (from requests->tcia_utils) (1.26.15)\nRequirement already satisfied: certifi>=2017.4.17 in /opt/conda/lib/python3.10/site-packages (from requests->tcia_utils) (2023.11.17)\nRequirement already satisfied: tenacity>=6.2.0 in /opt/conda/lib/python3.10/site-packages (from plotly->tcia_utils) (8.2.3)\nRequirement already satisfied: SimpleITK>1.2.4 in /opt/conda/lib/python3.10/site-packages (from pydicom-seg->tcia_utils) (2.3.1)\nRequirement already satisfied: jsonschema<4.0.0,>=3.2.0 in /opt/conda/lib/python3.10/site-packages (from pydicom-seg->tcia_utils) (3.2.0)\nRequirement already satisfied: opencv-python in /opt/conda/lib/python3.10/site-packages (from rt-utils->tcia_utils) (4.9.0.80)\nRequirement already satisfied: dataclasses in /opt/conda/lib/python3.10/site-packages (from rt-utils->tcia_utils) (0.6)\nRequirement already satisfied: comm>=0.1.1 in /opt/conda/lib/python3.10/site-packages (from ipykernel>=4.5.1->ipywidgets->tcia_utils) (0.1.4)\nRequirement already satisfied: debugpy>=1.6.5 in /opt/conda/lib/python3.10/site-packages (from ipykernel>=4.5.1->ipywidgets->tcia_utils) (1.6.7.post1)\nRequirement already satisfied: jupyter-client>=6.1.12 in /opt/conda/lib/python3.10/site-packages (from ipykernel>=4.5.1->ipywidgets->tcia_utils) (7.4.9)\nRequirement already satisfied: jupyter-core!=5.0.*,>=4.12 in /opt/conda/lib/python3.10/site-packages (from ipykernel>=4.5.1->ipywidgets->tcia_utils) (5.3.1)\nRequirement already satisfied: matplotlib-inline>=0.1 in /opt/conda/lib/python3.10/site-packages (from ipykernel>=4.5.1->ipywidgets->tcia_utils) (0.1.6)\nRequirement already satisfied: nest-asyncio in /opt/conda/lib/python3.10/site-packages (from ipykernel>=4.5.1->ipywidgets->tcia_utils) (1.5.6)\nRequirement already satisfied: psutil in /opt/conda/lib/python3.10/site-packages (from ipykernel>=4.5.1->ipywidgets->tcia_utils) (5.9.3)\nRequirement already satisfied: pyzmq>=20 in /opt/conda/lib/python3.10/site-packages (from ipykernel>=4.5.1->ipywidgets->tcia_utils) (24.0.1)\nRequirement already satisfied: tornado>=6.1 in /opt/conda/lib/python3.10/site-packages (from ipykernel>=4.5.1->ipywidgets->tcia_utils) (6.3.3)\nRequirement already satisfied: backcall in /opt/conda/lib/python3.10/site-packages (from ipython>=4.0.0->ipywidgets->tcia_utils) (0.2.0)\nRequirement already satisfied: decorator in /opt/conda/lib/python3.10/site-packages (from ipython>=4.0.0->ipywidgets->tcia_utils) (5.1.1)\nRequirement already satisfied: jedi>=0.16 in /opt/conda/lib/python3.10/site-packages (from ipython>=4.0.0->ipywidgets->tcia_utils) (0.19.0)\nRequirement already satisfied: pickleshare in /opt/conda/lib/python3.10/site-packages (from ipython>=4.0.0->ipywidgets->tcia_utils) (0.7.5)\nRequirement already satisfied: prompt-toolkit!=3.0.37,<3.1.0,>=3.0.30 in /opt/conda/lib/python3.10/site-packages (from ipython>=4.0.0->ipywidgets->tcia_utils) (3.0.39)\nRequirement already satisfied: pygments>=2.4.0 in /opt/conda/lib/python3.10/site-packages (from ipython>=4.0.0->ipywidgets->tcia_utils) (2.16.1)\nRequirement already satisfied: stack-data in /opt/conda/lib/python3.10/site-packages (from ipython>=4.0.0->ipywidgets->tcia_utils) (0.6.2)\nRequirement already satisfied: pexpect>4.3 in /opt/conda/lib/python3.10/site-packages (from ipython>=4.0.0->ipywidgets->tcia_utils) (4.8.0)\nRequirement already satisfied: attrs>=17.4.0 in /opt/conda/lib/python3.10/site-packages (from jsonschema<4.0.0,>=3.2.0->pydicom-seg->tcia_utils) (23.1.0)\nRequirement already satisfied: pyrsistent>=0.14.0 in /opt/conda/lib/python3.10/site-packages (from jsonschema<4.0.0,>=3.2.0->pydicom-seg->tcia_utils) (0.20.0)\nRequirement already satisfied: setuptools in /opt/conda/lib/python3.10/site-packages (from jsonschema<4.0.0,>=3.2.0->pydicom-seg->tcia_utils) (68.1.2)\nRequirement already satisfied: six>=1.11.0 in /opt/conda/lib/python3.10/site-packages (from jsonschema<4.0.0,>=3.2.0->pydicom-seg->tcia_utils) (1.16.0)\nRequirement already satisfied: threadpoolctl>=2.0.0 in /opt/conda/lib/python3.10/site-packages (from scikit-learn>=1.0.0->nilearn->tcia_utils) (3.2.0)\nRequirement already satisfied: notebook>=4.4.1 in /opt/conda/lib/python3.10/site-packages (from widgetsnbextension~=3.6.0->ipywidgets->tcia_utils) (6.5.5)\nRequirement already satisfied: parso<0.9.0,>=0.8.3 in /opt/conda/lib/python3.10/site-packages (from jedi>=0.16->ipython>=4.0.0->ipywidgets->tcia_utils) (0.8.3)\nRequirement already satisfied: entrypoints in /opt/conda/lib/python3.10/site-packages (from jupyter-client>=6.1.12->ipykernel>=4.5.1->ipywidgets->tcia_utils) (0.4)\nRequirement already satisfied: platformdirs>=2.5 in /opt/conda/lib/python3.10/site-packages (from jupyter-core!=5.0.*,>=4.12->ipykernel>=4.5.1->ipywidgets->tcia_utils) (4.1.0)\nRequirement already satisfied: jinja2 in /opt/conda/lib/python3.10/site-packages (from notebook>=4.4.1->widgetsnbextension~=3.6.0->ipywidgets->tcia_utils) (3.1.2)\nRequirement already satisfied: argon2-cffi in /opt/conda/lib/python3.10/site-packages (from notebook>=4.4.1->widgetsnbextension~=3.6.0->ipywidgets->tcia_utils) (21.3.0)\nRequirement already satisfied: nbformat in /opt/conda/lib/python3.10/site-packages (from notebook>=4.4.1->widgetsnbextension~=3.6.0->ipywidgets->tcia_utils) (5.9.2)\nRequirement already satisfied: nbconvert>=5 in /opt/conda/lib/python3.10/site-packages (from notebook>=4.4.1->widgetsnbextension~=3.6.0->ipywidgets->tcia_utils) (6.4.5)\nRequirement already satisfied: Send2Trash>=1.8.0 in /opt/conda/lib/python3.10/site-packages (from notebook>=4.4.1->widgetsnbextension~=3.6.0->ipywidgets->tcia_utils) (1.8.2)\nRequirement already satisfied: terminado>=0.8.3 in /opt/conda/lib/python3.10/site-packages (from notebook>=4.4.1->widgetsnbextension~=3.6.0->ipywidgets->tcia_utils) (0.17.1)\nRequirement already satisfied: prometheus-client in /opt/conda/lib/python3.10/site-packages (from notebook>=4.4.1->widgetsnbextension~=3.6.0->ipywidgets->tcia_utils) (0.17.1)\nRequirement already satisfied: nbclassic>=0.4.7 in /opt/conda/lib/python3.10/site-packages (from notebook>=4.4.1->widgetsnbextension~=3.6.0->ipywidgets->tcia_utils) (1.0.0)\nRequirement already satisfied: ptyprocess>=0.5 in /opt/conda/lib/python3.10/site-packages (from pexpect>4.3->ipython>=4.0.0->ipywidgets->tcia_utils) (0.7.0)\nRequirement already satisfied: wcwidth in /opt/conda/lib/python3.10/site-packages (from prompt-toolkit!=3.0.37,<3.1.0,>=3.0.30->ipython>=4.0.0->ipywidgets->tcia_utils) (0.2.6)\nRequirement already satisfied: executing>=1.2.0 in /opt/conda/lib/python3.10/site-packages (from stack-data->ipython>=4.0.0->ipywidgets->tcia_utils) (1.2.0)\nRequirement already satisfied: asttokens>=2.1.0 in /opt/conda/lib/python3.10/site-packages (from stack-data->ipython>=4.0.0->ipywidgets->tcia_utils) (2.2.1)\nRequirement already satisfied: pure-eval in /opt/conda/lib/python3.10/site-packages (from stack-data->ipython>=4.0.0->ipywidgets->tcia_utils) (0.2.2)\nRequirement already satisfied: jupyter-server>=1.8 in /opt/conda/lib/python3.10/site-packages (from nbclassic>=0.4.7->notebook>=4.4.1->widgetsnbextension~=3.6.0->ipywidgets->tcia_utils) (2.10.0)\nRequirement already satisfied: notebook-shim>=0.2.3 in /opt/conda/lib/python3.10/site-packages (from nbclassic>=0.4.7->notebook>=4.4.1->widgetsnbextension~=3.6.0->ipywidgets->tcia_utils) (0.2.3)\nRequirement already satisfied: mistune<2,>=0.8.1 in /opt/conda/lib/python3.10/site-packages (from nbconvert>=5->notebook>=4.4.1->widgetsnbextension~=3.6.0->ipywidgets->tcia_utils) (0.8.4)\nRequirement already satisfied: jupyterlab-pygments in /opt/conda/lib/python3.10/site-packages (from nbconvert>=5->notebook>=4.4.1->widgetsnbextension~=3.6.0->ipywidgets->tcia_utils) (0.2.2)\nRequirement already satisfied: bleach in /opt/conda/lib/python3.10/site-packages (from nbconvert>=5->notebook>=4.4.1->widgetsnbextension~=3.6.0->ipywidgets->tcia_utils) (6.0.0)\nRequirement already satisfied: pandocfilters>=1.4.1 in /opt/conda/lib/python3.10/site-packages (from nbconvert>=5->notebook>=4.4.1->widgetsnbextension~=3.6.0->ipywidgets->tcia_utils) (1.5.0)\nRequirement already satisfied: testpath in /opt/conda/lib/python3.10/site-packages (from nbconvert>=5->notebook>=4.4.1->widgetsnbextension~=3.6.0->ipywidgets->tcia_utils) (0.6.0)\nRequirement already satisfied: defusedxml in /opt/conda/lib/python3.10/site-packages (from nbconvert>=5->notebook>=4.4.1->widgetsnbextension~=3.6.0->ipywidgets->tcia_utils) (0.7.1)\nRequirement already satisfied: beautifulsoup4 in /opt/conda/lib/python3.10/site-packages (from nbconvert>=5->notebook>=4.4.1->widgetsnbextension~=3.6.0->ipywidgets->tcia_utils) (4.12.2)\nRequirement already satisfied: nbclient<0.6.0,>=0.5.0 in /opt/conda/lib/python3.10/site-packages (from nbconvert>=5->notebook>=4.4.1->widgetsnbextension~=3.6.0->ipywidgets->tcia_utils) (0.5.13)\nRequirement already satisfied: MarkupSafe>=2.0 in /opt/conda/lib/python3.10/site-packages (from nbconvert>=5->notebook>=4.4.1->widgetsnbextension~=3.6.0->ipywidgets->tcia_utils) (2.1.3)\nRequirement already satisfied: fastjsonschema in /opt/conda/lib/python3.10/site-packages (from nbformat->notebook>=4.4.1->widgetsnbextension~=3.6.0->ipywidgets->tcia_utils) (2.18.0)\nRequirement already satisfied: argon2-cffi-bindings in /opt/conda/lib/python3.10/site-packages (from argon2-cffi->notebook>=4.4.1->widgetsnbextension~=3.6.0->ipywidgets->tcia_utils) (21.2.0)\nRequirement already satisfied: anyio>=3.1.0 in /opt/conda/lib/python3.10/site-packages (from jupyter-server>=1.8->nbclassic>=0.4.7->notebook>=4.4.1->widgetsnbextension~=3.6.0->ipywidgets->tcia_utils) (3.7.1)\nRequirement already satisfied: jupyter-events>=0.6.0 in /opt/conda/lib/python3.10/site-packages (from jupyter-server>=1.8->nbclassic>=0.4.7->notebook>=4.4.1->widgetsnbextension~=3.6.0->ipywidgets->tcia_utils) (0.6.3)\nRequirement already satisfied: jupyter-server-terminals in /opt/conda/lib/python3.10/site-packages (from jupyter-server>=1.8->nbclassic>=0.4.7->notebook>=4.4.1->widgetsnbextension~=3.6.0->ipywidgets->tcia_utils) (0.4.4)\nRequirement already satisfied: overrides in /opt/conda/lib/python3.10/site-packages (from jupyter-server>=1.8->nbclassic>=0.4.7->notebook>=4.4.1->widgetsnbextension~=3.6.0->ipywidgets->tcia_utils) (6.5.0)\nRequirement already satisfied: websocket-client in /opt/conda/lib/python3.10/site-packages (from jupyter-server>=1.8->nbclassic>=0.4.7->notebook>=4.4.1->widgetsnbextension~=3.6.0->ipywidgets->tcia_utils) (1.6.2)\nRequirement already satisfied: cffi>=1.0.1 in /opt/conda/lib/python3.10/site-packages (from argon2-cffi-bindings->argon2-cffi->notebook>=4.4.1->widgetsnbextension~=3.6.0->ipywidgets->tcia_utils) (1.15.1)\nRequirement already satisfied: soupsieve>1.2 in /opt/conda/lib/python3.10/site-packages (from beautifulsoup4->nbconvert>=5->notebook>=4.4.1->widgetsnbextension~=3.6.0->ipywidgets->tcia_utils) (2.3.2.post1)\nRequirement already satisfied: webencodings in /opt/conda/lib/python3.10/site-packages (from bleach->nbconvert>=5->notebook>=4.4.1->widgetsnbextension~=3.6.0->ipywidgets->tcia_utils) (0.5.1)\nRequirement already satisfied: sniffio>=1.1 in /opt/conda/lib/python3.10/site-packages (from anyio>=3.1.0->jupyter-server>=1.8->nbclassic>=0.4.7->notebook>=4.4.1->widgetsnbextension~=3.6.0->ipywidgets->tcia_utils) (1.3.0)\nRequirement already satisfied: exceptiongroup in /opt/conda/lib/python3.10/site-packages (from anyio>=3.1.0->jupyter-server>=1.8->nbclassic>=0.4.7->notebook>=4.4.1->widgetsnbextension~=3.6.0->ipywidgets->tcia_utils) (1.1.3)\nRequirement already satisfied: pycparser in /opt/conda/lib/python3.10/site-packages (from cffi>=1.0.1->argon2-cffi-bindings->argon2-cffi->notebook>=4.4.1->widgetsnbextension~=3.6.0->ipywidgets->tcia_utils) (2.21)\nRequirement already satisfied: python-json-logger>=2.0.4 in /opt/conda/lib/python3.10/site-packages (from jupyter-events>=0.6.0->jupyter-server>=1.8->nbclassic>=0.4.7->notebook>=4.4.1->widgetsnbextension~=3.6.0->ipywidgets->tcia_utils) (2.0.7)\nRequirement already satisfied: pyyaml>=5.3 in /opt/conda/lib/python3.10/site-packages (from jupyter-events>=0.6.0->jupyter-server>=1.8->nbclassic>=0.4.7->notebook>=4.4.1->widgetsnbextension~=3.6.0->ipywidgets->tcia_utils) (6.0.1)\nRequirement already satisfied: rfc3339-validator in /opt/conda/lib/python3.10/site-packages (from jupyter-events>=0.6.0->jupyter-server>=1.8->nbclassic>=0.4.7->notebook>=4.4.1->widgetsnbextension~=3.6.0->ipywidgets->tcia_utils) (0.1.4)\nRequirement already satisfied: rfc3986-validator>=0.1.1 in /opt/conda/lib/python3.10/site-packages (from jupyter-events>=0.6.0->jupyter-server>=1.8->nbclassic>=0.4.7->notebook>=4.4.1->widgetsnbextension~=3.6.0->ipywidgets->tcia_utils) (0.1.1)\n\u001b[33mWARNING: jsonschema 3.2.0 does not provide the extra 'format-nongpl'\u001b[0m\u001b[33m\n\u001b[0m",
          "output_type": "stream"
        }
      ]
    },
    {
      "cell_type": "code",
      "source": [
        "!pip install nibabel\n",
        "import nibabel as nib"
      ],
      "metadata": {
        "colab": {
          "base_uri": "https://localhost:8080/"
        },
        "id": "3ldy52OenreJ",
        "outputId": "7fc3f031-3b65-4cbd-96e6-3fdb3ff905d7",
        "execution": {
          "iopub.status.busy": "2024-01-14T18:28:24.160028Z",
          "iopub.execute_input": "2024-01-14T18:28:24.160413Z",
          "iopub.status.idle": "2024-01-14T18:28:39.347796Z",
          "shell.execute_reply.started": "2024-01-14T18:28:24.160381Z",
          "shell.execute_reply": "2024-01-14T18:28:39.346783Z"
        },
        "trusted": true
      },
      "execution_count": null,
      "outputs": [
        {
          "name": "stdout",
          "text": "Requirement already satisfied: nibabel in /opt/conda/lib/python3.10/site-packages (5.2.0)\nRequirement already satisfied: numpy>=1.20 in /opt/conda/lib/python3.10/site-packages (from nibabel) (1.24.3)\nRequirement already satisfied: packaging>=17 in /opt/conda/lib/python3.10/site-packages (from nibabel) (21.3)\nRequirement already satisfied: pyparsing!=3.0.5,>=2.0.2 in /opt/conda/lib/python3.10/site-packages (from packaging>=17->nibabel) (3.0.9)\n",
          "output_type": "stream"
        }
      ]
    },
    {
      "cell_type": "code",
      "source": [
        "import os\n",
        "import numpy as np\n",
        "import torch\n",
        "import pydicom\n",
        "import cv2\n",
        "import matplotlib.pyplot as plt\n",
        "from tcia_utils import nbia\n",
        "from monai.bundle import ConfigParser, download\n",
        "from monai.transforms import LoadImage, LoadImaged, Orientation, Orientationd, EnsureChannelFirst, EnsureChannelFirstd, Compose , Resized , Resize , ToTensor , ToTensord\n",
        "#from rt_utils import RTStructBuilder\n",
        "from scipy.ndimage import label, measurements\n",
        "import json"
      ],
      "metadata": {
        "id": "lMXWOZIzJfJy",
        "execution": {
          "iopub.status.busy": "2024-01-14T18:28:39.349395Z",
          "iopub.execute_input": "2024-01-14T18:28:39.350107Z",
          "iopub.status.idle": "2024-01-14T18:29:39.167971Z",
          "shell.execute_reply.started": "2024-01-14T18:28:39.350072Z",
          "shell.execute_reply": "2024-01-14T18:29:39.166564Z"
        },
        "trusted": true
      },
      "execution_count": null,
      "outputs": []
    },
    {
      "cell_type": "code",
      "source": [
        "from glob import glob"
      ],
      "metadata": {
        "id": "pcxwg4mXiRXT",
        "execution": {
          "iopub.status.busy": "2024-01-14T18:29:39.169589Z",
          "iopub.execute_input": "2024-01-14T18:29:39.171290Z",
          "iopub.status.idle": "2024-01-14T18:29:39.177583Z",
          "shell.execute_reply.started": "2024-01-14T18:29:39.171250Z",
          "shell.execute_reply": "2024-01-14T18:29:39.175960Z"
        },
        "trusted": true
      },
      "execution_count": null,
      "outputs": []
    },
    {
      "cell_type": "code",
      "source": [
        "HOME = os.getcwd()\n",
        "HOME"
      ],
      "metadata": {
        "id": "eIboAebBJkth",
        "outputId": "78b8a274-435d-4bce-c4c7-0de5304918a2",
        "colab": {
          "base_uri": "https://localhost:8080/",
          "height": 35
        },
        "execution": {
          "iopub.status.busy": "2024-01-14T18:29:39.180566Z",
          "iopub.execute_input": "2024-01-14T18:29:39.180927Z",
          "iopub.status.idle": "2024-01-14T18:29:39.195662Z",
          "shell.execute_reply.started": "2024-01-14T18:29:39.180895Z",
          "shell.execute_reply": "2024-01-14T18:29:39.194431Z"
        },
        "trusted": true
      },
      "execution_count": null,
      "outputs": [
        {
          "execution_count": 6,
          "output_type": "execute_result",
          "data": {
            "text/plain": "'/kaggle/working'"
          },
          "metadata": {}
        }
      ]
    },
    {
      "cell_type": "code",
      "source": [
        "datadir = os.path.join(HOME , 'Data')\n",
        "datadir"
      ],
      "metadata": {
        "id": "_u8SGTvSJfJ1",
        "outputId": "b80cc91c-5cc5-44bc-acee-d8b7687d4ad3",
        "colab": {
          "base_uri": "https://localhost:8080/",
          "height": 35
        },
        "execution": {
          "iopub.status.busy": "2024-01-14T18:29:39.197402Z",
          "iopub.execute_input": "2024-01-14T18:29:39.197777Z",
          "iopub.status.idle": "2024-01-14T18:29:39.210416Z",
          "shell.execute_reply.started": "2024-01-14T18:29:39.197745Z",
          "shell.execute_reply": "2024-01-14T18:29:39.209109Z"
        },
        "trusted": true
      },
      "execution_count": null,
      "outputs": [
        {
          "execution_count": 7,
          "output_type": "execute_result",
          "data": {
            "text/plain": "'/kaggle/working/Data'"
          },
          "metadata": {}
        }
      ]
    },
    {
      "cell_type": "code",
      "source": [
        "# https://nbia.cancerimagingarchive.net/nbia-search/?saved-cart=nbia-57651705005866257"
      ],
      "metadata": {
        "id": "iayrAoH_MZZq",
        "execution": {
          "iopub.status.busy": "2024-01-14T18:29:39.212208Z",
          "iopub.execute_input": "2024-01-14T18:29:39.212738Z",
          "iopub.status.idle": "2024-01-14T18:29:39.218786Z",
          "shell.execute_reply.started": "2024-01-14T18:29:39.212690Z",
          "shell.execute_reply": "2024-01-14T18:29:39.217600Z"
        },
        "trusted": true
      },
      "execution_count": null,
      "outputs": []
    },
    {
      "cell_type": "code",
      "source": [
        "# cart_name = \"nbia-56561691129779503\"\n",
        "# cart_data = nbia.getSharedCart(cart_name)\n",
        "# df = nbia.downloadSeries(cart_data, format=\"df\", path = datadir)"
      ],
      "metadata": {
        "id": "OhAPPkBbJfJ4",
        "execution": {
          "iopub.status.busy": "2024-01-14T18:29:39.220406Z",
          "iopub.execute_input": "2024-01-14T18:29:39.220890Z",
          "iopub.status.idle": "2024-01-14T18:29:39.230949Z",
          "shell.execute_reply.started": "2024-01-14T18:29:39.220845Z",
          "shell.execute_reply": "2024-01-14T18:29:39.229913Z"
        },
        "trusted": true
      },
      "execution_count": null,
      "outputs": []
    },
    {
      "cell_type": "code",
      "source": [
        "CT_folder = os.path.join(datadir, '/kaggle/working/Data/1.3.6.1.4.1.14519.5.2.1.3320.3273.193828570195012288011029757668')\n",
        "CT_folder\n",
        "out_path = '/kaggle/working'"
      ],
      "metadata": {
        "id": "OFOnU210JfJ5",
        "execution": {
          "iopub.status.busy": "2024-01-14T18:29:39.232571Z",
          "iopub.execute_input": "2024-01-14T18:29:39.233002Z",
          "iopub.status.idle": "2024-01-14T18:29:39.246667Z",
          "shell.execute_reply.started": "2024-01-14T18:29:39.232968Z",
          "shell.execute_reply": "2024-01-14T18:29:39.245370Z"
        },
        "trusted": true
      },
      "execution_count": null,
      "outputs": []
    },
    {
      "cell_type": "code",
      "source": [
        "!pip install dicom2nifti\n",
        "import dicom2nifti"
      ],
      "metadata": {
        "colab": {
          "base_uri": "https://localhost:8080/"
        },
        "id": "PR6_bmDyCyjI",
        "outputId": "8a145f43-2516-4b69-e0d9-05ef61139532",
        "execution": {
          "iopub.status.busy": "2024-01-14T18:29:39.248738Z",
          "iopub.execute_input": "2024-01-14T18:29:39.249174Z",
          "iopub.status.idle": "2024-01-14T18:29:53.804399Z",
          "shell.execute_reply.started": "2024-01-14T18:29:39.249140Z",
          "shell.execute_reply": "2024-01-14T18:29:53.802352Z"
        },
        "trusted": true
      },
      "execution_count": null,
      "outputs": [
        {
          "name": "stdout",
          "text": "Requirement already satisfied: dicom2nifti in /opt/conda/lib/python3.10/site-packages (2.4.9)\nRequirement already satisfied: nibabel in /opt/conda/lib/python3.10/site-packages (from dicom2nifti) (5.2.0)\nRequirement already satisfied: numpy in /opt/conda/lib/python3.10/site-packages (from dicom2nifti) (1.24.3)\nRequirement already satisfied: scipy in /opt/conda/lib/python3.10/site-packages (from dicom2nifti) (1.11.4)\nRequirement already satisfied: pydicom>=2.2.0 in /opt/conda/lib/python3.10/site-packages (from dicom2nifti) (2.4.4)\nRequirement already satisfied: python-gdcm in /opt/conda/lib/python3.10/site-packages (from dicom2nifti) (3.0.23)\nRequirement already satisfied: packaging>=17 in /opt/conda/lib/python3.10/site-packages (from nibabel->dicom2nifti) (21.3)\nRequirement already satisfied: pyparsing!=3.0.5,>=2.0.2 in /opt/conda/lib/python3.10/site-packages (from packaging>=17->nibabel->dicom2nifti) (3.0.9)\n",
          "output_type": "stream"
        }
      ]
    },
    {
      "cell_type": "code",
      "source": [
        "dicom2nifti.dicom_series_to_nifti(CT_folder , os.path.join(out_path , 'one.nii.gz') , reorient_nifti=True )"
      ],
      "metadata": {
        "id": "6tujejH2DVPv",
        "execution": {
          "iopub.status.busy": "2024-01-14T18:29:53.806215Z",
          "iopub.execute_input": "2024-01-14T18:29:53.806640Z",
          "iopub.status.idle": "2024-01-14T18:29:53.814412Z",
          "shell.execute_reply.started": "2024-01-14T18:29:53.806596Z",
          "shell.execute_reply": "2024-01-14T18:29:53.813076Z"
        },
        "trusted": true
      },
      "execution_count": null,
      "outputs": []
    },
    {
      "cell_type": "code",
      "source": [
        "sample = nib.load('/kaggle/working/one.nii.gz').get_fdata()\n",
        "sample.shape"
      ],
      "metadata": {
        "colab": {
          "base_uri": "https://localhost:8080/"
        },
        "id": "0EbOOVXk6pQD",
        "outputId": "4e35226c-174a-4c78-8ec0-18b150bd62fd",
        "execution": {
          "iopub.status.busy": "2024-01-14T18:29:53.816432Z",
          "iopub.execute_input": "2024-01-14T18:29:53.816969Z",
          "iopub.status.idle": "2024-01-14T18:29:59.162166Z",
          "shell.execute_reply.started": "2024-01-14T18:29:53.816923Z",
          "shell.execute_reply": "2024-01-14T18:29:59.160831Z"
        },
        "trusted": true
      },
      "execution_count": null,
      "outputs": [
        {
          "execution_count": 13,
          "output_type": "execute_result",
          "data": {
            "text/plain": "(512, 512, 975)"
          },
          "metadata": {}
        }
      ]
    },
    {
      "cell_type": "code",
      "source": [
        "# !wget --content-disposition https://api.ngc.nvidia.com/v2/models/nvidia/monaitoolkit/monai_wholebody_ct_segmentation/versions/0.1.9/zip -O monai_wholebody_ct_segmentation_0.1.9.zip"
      ],
      "metadata": {
        "id": "ufd2xRHRJfKL",
        "execution": {
          "iopub.status.busy": "2024-01-14T18:29:59.164177Z",
          "iopub.execute_input": "2024-01-14T18:29:59.164655Z",
          "iopub.status.idle": "2024-01-14T18:29:59.171140Z",
          "shell.execute_reply.started": "2024-01-14T18:29:59.164610Z",
          "shell.execute_reply": "2024-01-14T18:29:59.169982Z"
        },
        "trusted": true
      },
      "execution_count": null,
      "outputs": []
    },
    {
      "cell_type": "markdown",
      "source": [
        "We first set the paths of where we downloaded the model parameters (`model.pt`) and a file called `inference.json`."
      ],
      "metadata": {
        "id": "wIqJiRhjJfKL"
      }
    },
    {
      "cell_type": "code",
      "source": [
        "# from zipfile import ZipFile\n",
        "\n",
        "# file_path = \"//kaggle/working/monai_wholebody_ct_segmentation_0.1.9.zip\"\n",
        "\n",
        "# # opening the zip file in READ mode\n",
        "# with ZipFile(file_path, 'r') as zip:\n",
        "#     # printing all the contents of the zip file\n",
        "#     zip.printdir()\n",
        "\n",
        "#     # extracting all the files\n",
        "#     print('Extracting all the files now...')\n",
        "#     zip.extractall('./Model')\n",
        "#     print('Done!')"
      ],
      "metadata": {
        "id": "8ok3wobiTZOu",
        "execution": {
          "iopub.status.busy": "2024-01-14T18:29:59.177915Z",
          "iopub.execute_input": "2024-01-14T18:29:59.179150Z",
          "iopub.status.idle": "2024-01-14T18:29:59.188191Z",
          "shell.execute_reply.started": "2024-01-14T18:29:59.179110Z",
          "shell.execute_reply": "2024-01-14T18:29:59.187094Z"
        },
        "trusted": true
      },
      "execution_count": null,
      "outputs": []
    },
    {
      "cell_type": "code",
      "source": [
        "model_path = os.path.join(datadir, '/kaggle/working/Model/models/model_lowres.pt')\n",
        "config_path = os.path.join(datadir, '/kaggle/input/infer1000/inference (7).json')"
      ],
      "metadata": {
        "id": "xabujN2zJfKL",
        "execution": {
          "iopub.status.busy": "2024-01-14T18:29:59.189726Z",
          "iopub.execute_input": "2024-01-14T18:29:59.190120Z",
          "iopub.status.idle": "2024-01-14T18:29:59.198297Z",
          "shell.execute_reply.started": "2024-01-14T18:29:59.190086Z",
          "shell.execute_reply": "2024-01-14T18:29:59.197192Z"
        },
        "trusted": true
      },
      "execution_count": null,
      "outputs": []
    },
    {
      "cell_type": "code",
      "source": [
        "config = ConfigParser()\n",
        "config.read_config(config_path)"
      ],
      "metadata": {
        "id": "spUTcN-2JfKM",
        "execution": {
          "iopub.status.busy": "2024-01-14T18:29:59.199657Z",
          "iopub.execute_input": "2024-01-14T18:29:59.200013Z",
          "iopub.status.idle": "2024-01-14T18:29:59.218781Z",
          "shell.execute_reply.started": "2024-01-14T18:29:59.199983Z",
          "shell.execute_reply": "2024-01-14T18:29:59.217545Z"
        },
        "trusted": true
      },
      "execution_count": null,
      "outputs": []
    },
    {
      "cell_type": "code",
      "source": [
        "preprocessing = config.get_parsed_content(\"preprocessing\")"
      ],
      "metadata": {
        "id": "KMfhbAVXJfKM",
        "execution": {
          "iopub.status.busy": "2024-01-14T18:29:59.220417Z",
          "iopub.execute_input": "2024-01-14T18:29:59.221480Z",
          "iopub.status.idle": "2024-01-14T18:29:59.287577Z",
          "shell.execute_reply.started": "2024-01-14T18:29:59.221432Z",
          "shell.execute_reply": "2024-01-14T18:29:59.286359Z"
        },
        "trusted": true
      },
      "execution_count": null,
      "outputs": []
    },
    {
      "cell_type": "code",
      "source": [
        "device = torch.device('cpu')"
      ],
      "metadata": {
        "id": "k22Y27oqXLJD",
        "execution": {
          "iopub.status.busy": "2024-01-14T18:29:59.289317Z",
          "iopub.execute_input": "2024-01-14T18:29:59.289681Z",
          "iopub.status.idle": "2024-01-14T18:29:59.295222Z",
          "shell.execute_reply.started": "2024-01-14T18:29:59.289650Z",
          "shell.execute_reply": "2024-01-14T18:29:59.293805Z"
        },
        "trusted": true
      },
      "execution_count": null,
      "outputs": []
    },
    {
      "cell_type": "code",
      "source": [
        "model = config.get_parsed_content(\"network\").to(device)"
      ],
      "metadata": {
        "id": "XDCJ0NwxJfKO",
        "execution": {
          "iopub.status.busy": "2024-01-14T18:29:59.296886Z",
          "iopub.execute_input": "2024-01-14T18:29:59.297212Z",
          "iopub.status.idle": "2024-01-14T18:29:59.576401Z",
          "shell.execute_reply.started": "2024-01-14T18:29:59.297183Z",
          "shell.execute_reply": "2024-01-14T18:29:59.575105Z"
        },
        "trusted": true
      },
      "execution_count": null,
      "outputs": []
    },
    {
      "cell_type": "code",
      "source": [
        "data = preprocessing({'image': '/kaggle/working/one.nii.gz'})"
      ],
      "metadata": {
        "id": "E6V-oHBnJfKN",
        "execution": {
          "iopub.status.busy": "2024-01-14T18:29:59.581667Z",
          "iopub.execute_input": "2024-01-14T18:29:59.582056Z",
          "iopub.status.idle": "2024-01-14T18:30:13.440388Z",
          "shell.execute_reply.started": "2024-01-14T18:29:59.582024Z",
          "shell.execute_reply": "2024-01-14T18:30:13.439330Z"
        },
        "trusted": true
      },
      "execution_count": null,
      "outputs": []
    },
    {
      "cell_type": "code",
      "source": [
        "model.load_state_dict(torch.load(model_path , map_location= torch.device('cpu')))\n",
        "\n",
        "model.eval();"
      ],
      "metadata": {
        "id": "0NSt9dJiJfKQ",
        "execution": {
          "iopub.status.busy": "2024-01-14T18:30:13.442144Z",
          "iopub.execute_input": "2024-01-14T18:30:13.442892Z",
          "iopub.status.idle": "2024-01-14T18:30:13.855366Z",
          "shell.execute_reply.started": "2024-01-14T18:30:13.442846Z",
          "shell.execute_reply": "2024-01-14T18:30:13.854371Z"
        },
        "trusted": true
      },
      "execution_count": null,
      "outputs": []
    },
    {
      "cell_type": "code",
      "source": [
        "inferer = config.get_parsed_content(\"inferer\")"
      ],
      "metadata": {
        "id": "xuR5_a42JfKQ",
        "execution": {
          "iopub.status.busy": "2024-01-14T18:30:13.856913Z",
          "iopub.execute_input": "2024-01-14T18:30:13.857248Z",
          "iopub.status.idle": "2024-01-14T18:30:13.862731Z",
          "shell.execute_reply.started": "2024-01-14T18:30:13.857218Z",
          "shell.execute_reply": "2024-01-14T18:30:13.861621Z"
        },
        "trusted": true
      },
      "execution_count": null,
      "outputs": []
    },
    {
      "cell_type": "code",
      "source": [
        "postprocessing = config.get_parsed_content(\"postprocessing\")"
      ],
      "metadata": {
        "id": "bA3XO07tJfKR",
        "execution": {
          "iopub.status.busy": "2024-01-14T18:30:13.864660Z",
          "iopub.execute_input": "2024-01-14T18:30:13.865094Z",
          "iopub.status.idle": "2024-01-14T18:30:13.877383Z",
          "shell.execute_reply.started": "2024-01-14T18:30:13.865052Z",
          "shell.execute_reply": "2024-01-14T18:30:13.876105Z"
        },
        "trusted": true
      },
      "execution_count": null,
      "outputs": []
    },
    {
      "cell_type": "code",
      "source": [
        "data['image'].unsqueeze(0).shape"
      ],
      "metadata": {
        "id": "yAyIWamTJfKR",
        "colab": {
          "base_uri": "https://localhost:8080/"
        },
        "outputId": "59be36e7-7516-48a4-e655-ce9984168e07",
        "execution": {
          "iopub.status.busy": "2024-01-14T18:30:13.879527Z",
          "iopub.execute_input": "2024-01-14T18:30:13.880237Z",
          "iopub.status.idle": "2024-01-14T18:30:13.891162Z",
          "shell.execute_reply.started": "2024-01-14T18:30:13.880202Z",
          "shell.execute_reply": "2024-01-14T18:30:13.889741Z"
        },
        "trusted": true
      },
      "execution_count": null,
      "outputs": [
        {
          "execution_count": 25,
          "output_type": "execute_result",
          "data": {
            "text/plain": "torch.Size([1, 1, 167, 167, 650])"
          },
          "metadata": {}
        }
      ]
    },
    {
      "cell_type": "code",
      "source": [
        "# 2. Compute mask prediction, add it to dictionary\n",
        "with torch.no_grad():\n",
        "    # Have to add additional batch dimension to feed into model\n",
        "    data['pred'] = inferer(data['image'].unsqueeze(0), network=model)\n",
        "# Remove batch dimension in image and prediction\n",
        "data['pred'] = data['pred'][0]\n",
        "data['image'] = data['image'][0]\n"
      ],
      "metadata": {
        "id": "dLmG7q-jIcu3",
        "execution": {
          "iopub.status.busy": "2024-01-14T18:30:13.892748Z",
          "iopub.execute_input": "2024-01-14T18:30:13.893248Z",
          "iopub.status.idle": "2024-01-14T18:33:51.858771Z",
          "shell.execute_reply.started": "2024-01-14T18:30:13.893199Z",
          "shell.execute_reply": "2024-01-14T18:33:51.857404Z"
        },
        "trusted": true
      },
      "execution_count": null,
      "outputs": []
    },
    {
      "cell_type": "code",
      "source": [
        "data['image'].shape , data['pred'].shape"
      ],
      "metadata": {
        "execution": {
          "iopub.status.busy": "2024-01-14T18:47:50.336092Z",
          "iopub.execute_input": "2024-01-14T18:47:50.336582Z",
          "iopub.status.idle": "2024-01-14T18:47:50.347346Z",
          "shell.execute_reply.started": "2024-01-14T18:47:50.336541Z",
          "shell.execute_reply": "2024-01-14T18:47:50.345703Z"
        },
        "trusted": true,
        "id": "Ah5HhqUMMQ5H",
        "outputId": "7992397a-9a90-4d7c-932b-e61ceeb7c10d"
      },
      "execution_count": null,
      "outputs": [
        {
          "execution_count": 29,
          "output_type": "execute_result",
          "data": {
            "text/plain": "(torch.Size([167, 167, 650]), torch.Size([105, 167, 167, 650]))"
          },
          "metadata": {}
        }
      ]
    },
    {
      "cell_type": "code",
      "source": [
        "# Apply postprocessing to data\n",
        "data = postprocessing(data)\n",
        "segmentation = torch.flip(data['pred'][0], dims=[2])\n",
        "segmentation = segmentation.cpu().numpy()"
      ],
      "metadata": {
        "id": "ah3LdCb-JARv",
        "colab": {
          "base_uri": "https://localhost:8080/"
        },
        "outputId": "555b787d-86f3-4b16-e058-f93d6e759c7b",
        "execution": {
          "iopub.status.busy": "2024-01-14T18:49:41.151755Z",
          "iopub.execute_input": "2024-01-14T18:49:41.152311Z",
          "iopub.status.idle": "2024-01-14T18:50:34.768047Z",
          "shell.execute_reply.started": "2024-01-14T18:49:41.152269Z",
          "shell.execute_reply": "2024-01-14T18:50:34.766711Z"
        },
        "trusted": true
      },
      "execution_count": null,
      "outputs": [
        {
          "name": "stdout",
          "text": "2024-01-14 18:50:17,117 INFO image_writer.py:197 - writing: eval/one/one_trans.nii.gz\n",
          "output_type": "stream"
        }
      ]
    },
    {
      "cell_type": "code",
      "source": [
        "segment = data['pred'][0]"
      ],
      "metadata": {
        "id": "pHano8c8-rhm",
        "execution": {
          "iopub.status.busy": "2024-01-14T18:59:57.588362Z",
          "iopub.execute_input": "2024-01-14T18:59:57.589857Z",
          "iopub.status.idle": "2024-01-14T18:59:57.596123Z",
          "shell.execute_reply.started": "2024-01-14T18:59:57.589788Z",
          "shell.execute_reply": "2024-01-14T18:59:57.594617Z"
        },
        "trusted": true
      },
      "execution_count": null,
      "outputs": []
    },
    {
      "cell_type": "code",
      "source": [
        "slice_idx = 200\n",
        "images = nib.load('/kaggle/working/one.nii.gz').get_fdata()\n",
        "\n",
        "CT_coronal_slice = images[:,slice_idx , :]\n",
        "segmentation_coronal_slice = segment[:,slice_idx , :]"
      ],
      "metadata": {
        "id": "Y0TYq8b4JfKS",
        "execution": {
          "iopub.status.busy": "2024-01-14T19:01:05.390795Z",
          "iopub.execute_input": "2024-01-14T19:01:05.391386Z",
          "iopub.status.idle": "2024-01-14T19:01:10.467439Z",
          "shell.execute_reply.started": "2024-01-14T19:01:05.391347Z",
          "shell.execute_reply": "2024-01-14T19:01:10.466131Z"
        },
        "trusted": true
      },
      "execution_count": null,
      "outputs": []
    },
    {
      "cell_type": "code",
      "source": [
        "images.shape"
      ],
      "metadata": {
        "colab": {
          "base_uri": "https://localhost:8080/"
        },
        "id": "xO-j5504_Thn",
        "outputId": "c055f569-25c4-4f2a-c3d0-90ff647a404d",
        "execution": {
          "iopub.status.busy": "2024-01-14T19:01:12.573840Z",
          "iopub.execute_input": "2024-01-14T19:01:12.574407Z",
          "iopub.status.idle": "2024-01-14T19:01:12.584492Z",
          "shell.execute_reply.started": "2024-01-14T19:01:12.574368Z",
          "shell.execute_reply": "2024-01-14T19:01:12.582784Z"
        },
        "trusted": true
      },
      "execution_count": null,
      "outputs": [
        {
          "execution_count": 56,
          "output_type": "execute_result",
          "data": {
            "text/plain": "(512, 512, 975)"
          },
          "metadata": {}
        }
      ]
    },
    {
      "cell_type": "code",
      "source": [
        "plt.subplots(1,2,figsize=(6,6))\n",
        "plt.subplot(121)\n",
        "plt.pcolormesh(CT_coronal_slice.T, cmap='Greys_r')\n",
        "plt.axis('off')\n",
        "plt.subplot(122)\n",
        "plt.pcolormesh(segmentation_coronal_slice.T, cmap='nipy_spectral')\n",
        "plt.axis('off')\n",
        "plt.show()"
      ],
      "metadata": {
        "id": "KXUUyBBfJfKT",
        "outputId": "58fdcd4b-e3db-4267-ca39-670a674b411f",
        "colab": {
          "base_uri": "https://localhost:8080/",
          "height": 499
        },
        "execution": {
          "iopub.status.busy": "2024-01-14T19:01:14.592895Z",
          "iopub.execute_input": "2024-01-14T19:01:14.593357Z",
          "iopub.status.idle": "2024-01-14T19:01:15.952316Z",
          "shell.execute_reply.started": "2024-01-14T19:01:14.593313Z",
          "shell.execute_reply": "2024-01-14T19:01:15.951255Z"
        },
        "trusted": true
      },
      "execution_count": null,
      "outputs": [
        {
          "output_type": "display_data",
          "data": {
            "text/plain": "<Figure size 600x600 with 2 Axes>",
            "image/png": "[encoded data removed]"
          },
          "metadata": {}
        }
      ]
    },
    {
      "cell_type": "markdown",
      "source": [
        "The mask can be used for many purposes\n",
        "* Radiotherapy planning to avoid certain organs\n",
        "* (My research) utilization in SPECT/PET reconstruction algorithms to improve quantitation\n",
        "* Compute organ volumes"
      ],
      "metadata": {
        "id": "MBS7Y3o5JfKT"
      }
    },
    {
      "cell_type": "markdown",
      "source": [
        "**Example**: Computing bladder volume"
      ],
      "metadata": {
        "id": "jixqz8a6JfKT"
      }
    },
    {
      "cell_type": "code",
      "source": [
        "number_bladder_voxels = (segmentation==13).sum().item()\n",
        "voxel_volume_cm3 = np.prod(CT.meta['spacing']/10)\n",
        "bladder_volume = number_bladder_voxels * voxel_volume_cm3\n",
        "print(f'Bladder Volume {bladder_volume:.1f}cm^3')"
      ],
      "metadata": {
        "id": "bZBTeGk-JfKT"
      },
      "execution_count": null,
      "outputs": []
    }
  ]
}